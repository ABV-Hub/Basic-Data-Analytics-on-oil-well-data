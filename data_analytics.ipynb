{
 "cells": [
  {
   "cell_type": "code",
   "execution_count": 1,
   "metadata": {},
   "outputs": [
    {
     "name": "stderr",
     "output_type": "stream",
     "text": [
      "C:\\Users\\Aripra\\Anaconda3\\lib\\site-packages\\sklearn\\utils\\deprecation.py:58: DeprecationWarning: Class Imputer is deprecated; Imputer was deprecated in version 0.20 and will be removed in 0.22. Import impute.SimpleImputer from sklearn instead.\n",
      "  warnings.warn(msg, category=DeprecationWarning)\n",
      "C:\\Users\\Aripra\\Anaconda3\\lib\\site-packages\\sklearn\\utils\\deprecation.py:58: DeprecationWarning: Class Imputer is deprecated; Imputer was deprecated in version 0.20 and will be removed in 0.22. Import impute.SimpleImputer from sklearn instead.\n",
      "  warnings.warn(msg, category=DeprecationWarning)\n"
     ]
    }
   ],
   "source": [
    "import numpy as np\n",
    "import matplotlib.pyplot as plt\n",
    "import pandas as pd\n",
    "\n",
    "dataset=pd.read_csv(\"testdata1.csv\")\n",
    "\n",
    "X=dataset.iloc[:, :4].values\n",
    "              \n",
    "from sklearn.preprocessing import Imputer\n",
    "imputer=Imputer(missing_values='NaN',strategy='mean',axis=0)\n",
    "imputer=imputer.fit(X[:, 2:3])\n",
    "X[:, 2:3]=imputer.transform(X[:, 2:3])              \n",
    "\n",
    "from sklearn.preprocessing import Imputer\n",
    "imputer=Imputer(missing_values='NaN',strategy='mean',axis=0)\n",
    "imputer=imputer.fit(X[:, 2:3])\n",
    "X[:, 3:4]=imputer.transform(X[:, 3:4])  \n",
    "\n",
    "X_view=pd.DataFrame(X)"
   ]
  },
  {
   "cell_type": "code",
   "execution_count": 2,
   "metadata": {},
   "outputs": [
    {
     "name": "stdout",
     "output_type": "stream",
     "text": [
      "Previous depth = [1002.4098360655738]\n",
      "Current depth = [234.80771935018345]\n"
     ]
    }
   ],
   "source": [
    "mprevd=np.mean(X[:,2:3],axis=0)\n",
    "mprev_view=pd.DataFrame(mprevd)\n",
    "print (\"Previous depth =\",mprevd)\n",
    "\n",
    "mcurrd=np.mean(X[:,3:4],axis=0)\n",
    "mcurrd_view=pd.DataFrame(mcurrd)\n",
    "print (\"Current depth =\",mcurrd)\n",
    "\n"
   ]
  },
  {
   "cell_type": "code",
   "execution_count": 3,
   "metadata": {},
   "outputs": [],
   "source": [
    "reg=np.array(X[:,1:2],dtype=np.str)\n",
    "arrprev=np.array(X[:,2:3],dtype=np.float)\n",
    "arrcurr=np.array(X[:,3:4],dtype=np.float)\n",
    "sprev=np.tile(0.0,7)\n",
    "scurr=np.tile(0.0,7)\n",
    "count=np.tile(0.0,7)\n",
    "meanprev=np.tile(0.0,7)\n",
    "meancurr=np.tile(0.0,7)\n",
    "\n",
    "for i in range(0,443):\n",
    "    if reg[i]==\"WON\":\n",
    "        sprev[0]=sprev[0]+arrprev[i]\n",
    "        scurr[0]=scurr[0]+arrcurr[i]\n",
    "        count[0]=count[0]+1\n",
    "    if reg[i]==\"KG-PG\":\n",
    "        sprev[1]=sprev[1]+arrprev[i]\n",
    "        scurr[1]=scurr[1]+arrcurr[i]\n",
    "        count[1]=count[1]+1\n",
    "    if reg[i]==\"FRONTIER BASIN\":\n",
    "        sprev[2]=sprev[2]+arrprev[i]\n",
    "        scurr[2]=scurr[2]+arrcurr[i]\n",
    "        count[2]=count[2]+1\n",
    "             \n",
    "    if reg[i]==\"WOFF\":\n",
    "        sprev[3]=sprev[3]+arrprev[i]\n",
    "        scurr[3]=scurr[3]+arrcurr[i]\n",
    "        count[3]=count[3]+1\n",
    "             \n",
    "    if reg[i]==\"CAUVERY\":\n",
    "        sprev[4]=sprev[4]+arrprev[i]\n",
    "        scurr[4]=scurr[4]+arrcurr[i]\n",
    "        count[4]=count[4]+1\n",
    "             \n",
    "    if reg[i]==\"ASSAM\":\n",
    "        sprev[5]=sprev[5]+arrprev[i]\n",
    "        scurr[5]=scurr[5]+arrcurr[i]\n",
    "        count[5]=count[5]+1\n",
    "             \n",
    "    if reg[i]==\"MBA\":\n",
    "        sprev[6]=sprev[6]+arrprev[i]\n",
    "        scurr[6]=scurr[6]+arrcurr[i]\n",
    "        count[6]=count[6]+1\n",
    " \n",
    "for i in range(0,7):\n",
    "    meanprev[i]=sprev[i]/count[i]\n",
    "    meancurr[i]=scurr[i]/count[i]\n",
    "    \n",
    "region=[]\n",
    "region.append(\"WON\")\n",
    "region.append(\"KG-PG\")\n",
    "region.append(\"FRONTIER BASIN\")\n",
    "region.append(\"WOFF\")\n",
    "region.append(\"CAUVERY\")\n",
    "region.append(\"ASSAM\")\n",
    "region.append(\"MBA\")\n"
   ]
  },
  {
   "cell_type": "code",
   "execution_count": 4,
   "metadata": {},
   "outputs": [
    {
     "name": "stdout",
     "output_type": "stream",
     "text": [
      "WON\n",
      "PREVIOUS DEPTH =  817.9833600394442\n",
      "CURRENT DEPTH =  290.02304942684583\n",
      "KG-PG\n",
      "PREVIOUS DEPTH =  984.6296268822787\n",
      "CURRENT DEPTH =  57.542392997552106\n",
      "FRONTIER BASIN\n",
      "PREVIOUS DEPTH =  1845.704918032787\n",
      "CURRENT DEPTH =  1864.704918032787\n",
      "WOFF\n",
      "PREVIOUS DEPTH =  699.3556995806327\n",
      "CURRENT DEPTH =  372.98970644300414\n",
      "CAUVERY\n",
      "PREVIOUS DEPTH =  2050.2049180327867\n",
      "CURRENT DEPTH =  2050.2049180327867\n",
      "ASSAM\n",
      "PREVIOUS DEPTH =  2012.074681238616\n",
      "CURRENT DEPTH =  659.9635701275046\n",
      "MBA\n",
      "PREVIOUS DEPTH =  818.3524590163935\n",
      "CURRENT DEPTH =  250.60245901639345\n"
     ]
    }
   ],
   "source": [
    "\n",
    "for i in range(0,7):\n",
    "    print (region[i])\n",
    "    print (\"PREVIOUS DEPTH = \" , meanprev[i])\n",
    "    print (\"CURRENT DEPTH = \" , meancurr[i])\n",
    "    "
   ]
  },
  {
   "cell_type": "code",
   "execution_count": 5,
   "metadata": {},
   "outputs": [
    {
     "data": {
      "image/png": "[encoded data removed]",
      "text/plain": [
       "<Figure size 1440x360 with 1 Axes>"
      ]
     },
     "metadata": {
      "needs_background": "light"
     },
     "output_type": "display_data"
    }
   ],
   "source": [
    "objects = ('WON', 'KG-PG', 'FRONTIER BASIN', 'WOFF', 'CAUVERY', 'ASSAM','MBA')\n",
    "y_pos = np.arange(len(objects))\n",
    "plt.figure(figsize=(20, 5))\n",
    "\n",
    "plt.bar(y_pos, meanprev, align='center', alpha=0.5)\n",
    "plt.xticks(y_pos, objects)\n",
    "plt.ylabel('PREVIOUS DEPTH')\n",
    "plt.title('REGION')\n",
    "plt.show()"
   ]
  },
  {
   "cell_type": "code",
   "execution_count": 6,
   "metadata": {},
   "outputs": [
    {
     "data": {
      "image/png": "[encoded data removed]",
      "text/plain": [
       "<Figure size 1440x360 with 1 Axes>"
      ]
     },
     "metadata": {
      "needs_background": "light"
     },
     "output_type": "display_data"
    }
   ],
   "source": [
    "plt.figure(figsize=(20, 5))\n",
    "y_pos1 = np.arange(len(objects))   \n",
    "plt.bar(y_pos1, meancurr, align='center', alpha=0.5)\n",
    "plt.xticks(y_pos1, objects)\n",
    "plt.ylabel('CURRENT DEPTH')\n",
    "plt.title('REGION')      \n",
    "plt.show() "
   ]
  },
  {
   "cell_type": "code",
   "execution_count": 8,
   "metadata": {},
   "outputs": [
    {
     "data": {
      "image/png": "[encoded data removed]",
      "text/plain": [
       "<Figure size 1440x360 with 1 Axes>"
      ]
     },
     "metadata": {
      "needs_background": "light"
     },
     "output_type": "display_data"
    }
   ],
   "source": [
    "plt.figure(figsize=(20, 5))\n",
    "barWidth = 0.25\n",
    "r1 = np.arange(len(objects))\n",
    "r2 = [x + barWidth for x in r1]\n",
    "\n",
    "plt.ylabel('DEPTH')\n",
    "plt.bar(r1, meanprev, color='b', width=barWidth, edgecolor='white', label='previous depth')\n",
    "plt.bar(r2, meancurr, color='r', width=barWidth, edgecolor='white', label='current depth')\n",
    " \n",
    "plt.xlabel('REGION', fontweight='bold')\n",
    "plt.xticks([r + barWidth for r in range(len(objects))], ['WON', 'KG-PG', 'FRONTIER BASIN', 'WOFF', 'CAUVERY', 'ASSAM','MBA'])\n",
    " \n",
    "plt.legend()\n",
    "plt.show()\n"
   ]
  },
  {
   "cell_type": "code",
   "execution_count": null,
   "metadata": {},
   "outputs": [],
   "source": []
  }
 ],
 "metadata": {
  "kernelspec": {
   "display_name": "Python 3",
   "language": "python",
   "name": "python3"
  },
  "language_info": {
   "codemirror_mode": {
    "name": "ipython",
    "version": 3
   },
   "file_extension": ".py",
   "mimetype": "text/x-python",
   "name": "python",
   "nbconvert_exporter": "python",
   "pygments_lexer": "ipython3",
   "version": "3.7.1"
  }
 },
 "nbformat": 4,
 "nbformat_minor": 2
}
